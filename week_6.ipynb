{
 "cells": [
  {
   "cell_type": "code",
   "metadata": {
    "ExecuteTime": {
     "end_time": "2024-06-05T12:36:24.585362Z",
     "start_time": "2024-06-05T12:36:22.351647Z"
    }
   },
   "source": [
    "from __future__ import division\n",
    "from sympy import *\n",
    "import time\n",
    "import matplotlib.pyplot as plt\n",
    "%matplotlib inline\n",
    "\n",
    "def fixfloat(vec):\n",
    "    return list(map(lambda i: '%0.4f' % i, vec))"
   ],
   "outputs": [],
   "execution_count": 1
  },
  {
   "cell_type": "markdown",
   "metadata": {},
   "source": [
    "# Exercise 1: Analytical Integration"
   ]
  },
  {
   "cell_type": "markdown",
   "metadata": {},
   "source": [
    "Consider the functions\n",
    "\n",
    "$f(x) = -4 \\; x \\; (x - 1) \\label{ffunc} $\n",
    "\n",
    "and\n",
    "\n",
    "$g(x) = \\frac{8}{9} \\cdot (-16\\;x^4 + 40\\;x^3 -35\\;x^2 + 11\\;x)$\n",
    "\n",
    "Compute the antiderivatives and evaluate the integrals.\n"
   ]
  },
  {
   "cell_type": "code",
   "metadata": {
    "ExecuteTime": {
     "end_time": "2024-06-05T12:36:25.158266Z",
     "start_time": "2024-06-05T12:36:25.147235Z"
    }
   },
   "source": [
    "from __future__ import division\n",
    "from sympy import *\n",
    "x, y = symbols('x y')\n",
    "l, i = symbols('l, i', integer=True)\n",
    "g, h = symbols('f g', cls=Function)"
   ],
   "outputs": [],
   "execution_count": 2
  },
  {
   "cell_type": "code",
   "metadata": {
    "ExecuteTime": {
     "end_time": "2024-06-05T12:37:40.850287Z",
     "start_time": "2024-06-05T12:37:40.815236Z"
    }
   },
   "source": [
    "# TODO: Define symbolic functions: f, intf (i.e, the function and its integral). You can use\n",
    "# integrate(func, var)\n",
    "f = -4*x*(x-1)\n",
    "intf = integrate(f, x)\n",
    "\n",
    "print(intf)\n",
    "print(integrate(f, (x, 0, 1)))\n"
   ],
   "outputs": [
    {
     "name": "stdout",
     "output_type": "stream",
     "text": [
      "-4*x**3/3 + 2*x**2\n",
      "2/3\n"
     ]
    }
   ],
   "execution_count": 5
  },
  {
   "cell_type": "code",
   "metadata": {
    "ExecuteTime": {
     "end_time": "2024-06-05T12:39:53.468348Z",
     "start_time": "2024-06-05T12:39:53.421557Z"
    }
   },
   "source": [
    "# TODO: Define symbolic functions: g, intg (i.e, the function and its integral). You can use\n",
    "# integrate(func, var)\n",
    "\n",
    "g = 8 * (-16*x**4 + 40*x**3 - 35*x**2 + 11*x) / 9\n",
    "\n",
    "intg = integrate(g, x)\n",
    "\n",
    "print(intg)\n",
    "print(integrate(g, (x, 0, 1)))"
   ],
   "outputs": [
    {
     "name": "stdout",
     "output_type": "stream",
     "text": [
      "-128*x**5/45 + 80*x**4/9 - 280*x**3/27 + 44*x**2/9\n",
      "76/135\n"
     ]
    }
   ],
   "execution_count": 7
  },
  {
   "cell_type": "markdown",
   "metadata": {},
   "source": [
    "# Exercise 2: Composite Trapezoidal Rule"
   ]
  },
  {
   "cell_type": "markdown",
   "metadata": {},
   "source": [
    "Write a function that approximates the integral via the Composite Trapezoidal Rule.\n",
    "Complete the function template, with $a$, $b$ and $f$ according to the definition above and $n$ being the number of trapezoids used."
   ]
  },
  {
   "cell_type": "code",
   "metadata": {
    "ExecuteTime": {
     "end_time": "2024-06-05T12:50:20.579813Z",
     "start_time": "2024-06-05T12:50:20.568468Z"
    }
   },
   "source": [
    "def trapezoidalRule(f, a, b, n):\n",
    "    '''\n",
    "    Implements CTR to approximate the integral of a given function.\n",
    "        F ~= T = (b-a) * (f(a)+f(b))/2\n",
    "\n",
    "    f: function\n",
    "    a, b: integration limits\n",
    "    n: num. of intervals\n",
    "    '''\n",
    "    integral = 0.0\n",
    "    dh = (b-a)/float(n) # define interval base length\n",
    "\n",
    "    # TODO: Calculate the integral.\n",
    "    for i in range(n):\n",
    "        integral += dh*(f(a + i*dh)+f(a + (i+1)*dh))/2\n",
    "\n",
    "    return integral"
   ],
   "outputs": [],
   "execution_count": 10
  },
  {
   "cell_type": "code",
   "metadata": {
    "ExecuteTime": {
     "end_time": "2024-06-05T12:50:23.797365Z",
     "start_time": "2024-06-05T12:50:21.170984Z"
    }
   },
   "source": [
    "integ = trapezoidalRule(lambda t: f.subs(x, t), 0.0, 1.0, 1000)\n",
    "print('CTR intf =',integ)\n",
    "print('Analytic = ', float(2/3))\n",
    "\n",
    "integ = trapezoidalRule(lambda t: g.subs(x, t), 0.0, 1.0, 1000)\n",
    "print('\\nCTR intg =',integ)\n",
    "print('Analytic = ', float(76/135))"
   ],
   "outputs": [
    {
     "name": "stdout",
     "output_type": "stream",
     "text": [
      "CTR intf = 0.666666000000000\n",
      "Analytic =  0.6666666666666666\n",
      "\n",
      "CTR intg = 0.562961925926402\n",
      "Analytic =  0.562962962962963\n"
     ]
    }
   ],
   "execution_count": 11
  },
  {
   "cell_type": "markdown",
   "metadata": {},
   "source": [
    "# Optional: Composite Simpson Rule"
   ]
  },
  {
   "cell_type": "markdown",
   "metadata": {},
   "source": [
    "Do the same as in Exercise 2 for the Composite Simpson Rule."
   ]
  },
  {
   "cell_type": "code",
   "metadata": {
    "ExecuteTime": {
     "end_time": "2024-06-05T12:54:55.472641Z",
     "start_time": "2024-06-05T12:54:55.459598Z"
    }
   },
   "source": [
    "def simpsonRule(f, a, b, n):\n",
    "    '''\n",
    "    Implements SR to approximate the integral of given function.\n",
    "        F ~= S = (b-a) * (f(a) + f(b) + 4*f(m)) / 6, where m = (a+b)/2\n",
    "    f: function\n",
    "    a, b: integration limits\n",
    "    n: num. of intervals\n",
    "    '''\n",
    "\n",
    "    integral = 0.0\n",
    "    dh = (b-a)/float(n)\n",
    "\n",
    "    # TODO: Calculate the integral.\n",
    "    for i in range(n):\n",
    "        l = a + i*dh\n",
    "        r = l + dh\n",
    "        m = (l + r)/2\n",
    "        integral += dh * (f(l) + f(r) + 4*f(m))/6 \n",
    "\n",
    "    return integral"
   ],
   "outputs": [],
   "execution_count": 12
  },
  {
   "cell_type": "code",
   "metadata": {
    "ExecuteTime": {
     "end_time": "2024-06-05T12:54:56.785123Z",
     "start_time": "2024-06-05T12:54:56.626656Z"
    }
   },
   "source": [
    "integ = simpsonRule(lambda t: f.subs(x, t), 0.0, 1.0, 5)\n",
    "print('\\nSR intf =',integ)\n",
    "print('Analytic = ', float(2/3))\n",
    "\n",
    "integ = simpsonRule(lambda t: g.subs(x, t), 0.0, 1.0, 50)\n",
    "print('\\nSR intg =',integ)\n",
    "print('Analytic = ', float(76/135))"
   ],
   "outputs": [
    {
     "name": "stdout",
     "output_type": "stream",
     "text": [
      "\n",
      "SR intf = 0.666666666666667\n",
      "Analytic =  0.6666666666666666\n",
      "\n",
      "SR intg = 0.562962944000001\n",
      "Analytic =  0.562962962962963\n"
     ]
    }
   ],
   "execution_count": 13
  },
  {
   "cell_type": "markdown",
   "metadata": {},
   "source": [
    "# Exercise 3: Archimedes' Hierarchical Approach"
   ]
  },
  {
   "cell_type": "markdown",
   "metadata": {},
   "source": [
    "In this exercise we will use Archimedes' approach to approximate the integral.\n",
    "\n",
    "Let $\\vec{u} = [u_0,\\dots,u_{n-1}]^T \\in {\\mathbb R}^n, n = 2^l - 1, l \\in {\\mathbb N}$ a vector of function values with\n",
    "$u_i = f(x_i = \\frac{i + 1}{2^l})$.\n",
    "\n",
    "<b>a)</b>\n",
    "Write a function that transforms a given vector $\\vec{u} \\in {\\mathbb R}^n$ to a similar vector \n",
    "$\\vec{v} \\in {\\mathbb R}^n$ containing the hierarchical coefficients needed for Archimedes' quadrature approach.\n",
    "Use the function template below.\n",
    "\n",
    "<b>b)</b>\n",
    "Having computed the vector $\\vec{v}$ with the hierarchical coefficients, implement a function evaluating\n",
    "the integral.\n",
    "\n",
    "<b>c)</b>\n",
    "Write a function <b>dehierarchize1d</b> similar to <b>hierarchize1d</b> that computes the inverse of the\n",
    "transformation above.\n",
    "\n",
    "<b>NOTE:</b>\n",
    "We always assume a ZERO boundary case. And the domain is always $[0,1]$."
   ]
  },
  {
   "cell_type": "markdown",
   "metadata": {
    "collapsed": true
   },
   "source": [
    "### Task a)"
   ]
  },
  {
   "cell_type": "code",
   "metadata": {
    "ExecuteTime": {
     "end_time": "2024-06-05T13:18:46.901384Z",
     "start_time": "2024-06-05T13:18:46.888043Z"
    }
   },
   "source": [
    "def hierarchize1d(u, maxlv):\n",
    "    ''' \n",
    "    Basic algorithm:\n",
    "    -----------------\n",
    "    for l = maxlevel..1 :\n",
    "        delta = 2**(maxl - l)   # detla is indeed the index interval between mid-point and end-point\n",
    "        for j = index of every point of level l:\n",
    "            v[j] = u[j] - 0.5*(u[j-delta] + u[j+delta])  \n",
    "    '''\n",
    "    \n",
    "    v = list(u)\n",
    "    N = len(u)\n",
    "    \n",
    "    for l in range(maxlv, 1, -1):\n",
    "        delta = 2**(maxlv - l)\n",
    "        first = 2**(maxlv - l) - 1\n",
    "        for j in range(first, N, 2*delta):\n",
    "            v[j] = u[j]\n",
    "            if (j-delta) >= 0:\n",
    "                v[j] -= 0.5 * u[j-delta]\n",
    "            if (j+delta) < N:\n",
    "                v[j] -= 0.5 * u[j+delta]\n",
    "    \n",
    "    # TODO: Complete the algorithm\n",
    "    \n",
    "    return v"
   ],
   "outputs": [],
   "execution_count": 16
  },
  {
   "cell_type": "code",
   "metadata": {
    "ExecuteTime": {
     "end_time": "2024-06-05T13:18:48.038240Z",
     "start_time": "2024-06-05T13:18:47.844551Z"
    }
   },
   "source": [
    "level = 3\n",
    "xvec = []\n",
    "for i in range(1, 2**level):\n",
    "    xvec.append(i * 2**(-level))\n",
    "\n",
    "uvec = list(map(lambda t: f.subs(x,t), xvec))\n",
    "\n",
    "print(\"x =\",fixfloat(xvec))\n",
    "print(\"u =\",fixfloat(uvec))\n",
    "\n",
    "plt.scatter(xvec, uvec)\n",
    "\n",
    "vvec = hierarchize1d(uvec, level)\n",
    "print(\"v =\",fixfloat(vvec))\n",
    "\n",
    "plt.scatter(xvec, vvec)\n"
   ],
   "outputs": [
    {
     "name": "stdout",
     "output_type": "stream",
     "text": [
      "x = ['0.1250', '0.2500', '0.3750', '0.5000', '0.6250', '0.7500', '0.8750']\n",
      "u = ['0.4375', '0.7500', '0.9375', '1.0000', '0.9375', '0.7500', '0.4375']\n",
      "v = ['0.0625', '0.2500', '0.0625', '1.0000', '0.0625', '0.2500', '0.0625']\n"
     ]
    },
    {
     "data": {
      "text/plain": [
       "<matplotlib.collections.PathCollection at 0x1f457e52c90>"
      ]
     },
     "execution_count": 17,
     "metadata": {},
     "output_type": "execute_result"
    },
    {
     "data": {
      "text/plain": [
       "<Figure size 640x480 with 1 Axes>"
      ],
      "image/png": "[encoded data removed]"
     },
     "metadata": {},
     "output_type": "display_data"
    }
   ],
   "execution_count": 17
  },
  {
   "cell_type": "markdown",
   "metadata": {},
   "source": [
    "### Task b)"
   ]
  },
  {
   "cell_type": "code",
   "metadata": {
    "ExecuteTime": {
     "end_time": "2024-06-05T13:29:19.614502Z",
     "start_time": "2024-06-05T13:29:19.608087Z"
    }
   },
   "source": [
    "def computeIntegral(v, maxlv):   \n",
    "    integ = 0.0\n",
    "    N = len(v)\n",
    "    \n",
    "    # TODO: Compute the integral\n",
    "    for l in range(maxlv, 0, -1):\n",
    "        delta = 2**(maxlv - l)\n",
    "        first = 2**(maxlv - l) - 1\n",
    "        half_base = 2**(-l)\n",
    "        for j in range(first, N, 2*delta):\n",
    "            integ += v[j] * half_base\n",
    "    \n",
    "    return integ"
   ],
   "outputs": [],
   "execution_count": 22
  },
  {
   "cell_type": "code",
   "metadata": {
    "ExecuteTime": {
     "end_time": "2024-06-05T13:29:20.493124Z",
     "start_time": "2024-06-05T13:29:20.472081Z"
    }
   },
   "source": [
    "integ = computeIntegral(vvec, level)\n",
    "print('Archimedes intf =',integ)\n",
    "print('Analytic = ', float(2/3))"
   ],
   "outputs": [
    {
     "name": "stdout",
     "output_type": "stream",
     "text": [
      "Archimedes intf = 0.656250000000000\n",
      "Analytic =  0.6666666666666666\n"
     ]
    }
   ],
   "execution_count": 23
  },
  {
   "cell_type": "markdown",
   "metadata": {},
   "source": [
    "### Task c)"
   ]
  },
  {
   "cell_type": "code",
   "metadata": {
    "ExecuteTime": {
     "end_time": "2024-06-05T13:34:08.133802Z",
     "start_time": "2024-06-05T13:34:08.117638Z"
    }
   },
   "source": [
    "def dehierarchize1d(v, maxlv):\n",
    "    ''' \n",
    "    Basic algorithm:\n",
    "    -----------------\n",
    "    for l = 1..maxlevel :\n",
    "        delta = 2**(maxl - l)   # detla is indeed the index interval between mid-point and end-point\n",
    "        for j = index of every point of level l:\n",
    "            u[j] = v[j] + 0.5*(u[j-delta] + u[j+delta])  \n",
    "    '''\n",
    "    \n",
    "    u = list(v)\n",
    "    N = len(v)\n",
    "    \n",
    "    # TODO: Find u\n",
    "    for l in range(1, maxlv+1):\n",
    "        delta = 2**(maxlv - l)\n",
    "        start = delta - 1\n",
    "        for i in range(0, 2**l - 1, 2):\n",
    "            position = start + i * delta\n",
    "            assert(N > position >= 0)\n",
    "            u[position] = v[position]\n",
    "            if (position-delta) >= 0:\n",
    "                u[position] += 0.5 * u[position-delta]\n",
    "            if (position+delta) < N:\n",
    "                u[position] += 0.5 * u[position+delta]\n",
    "    \n",
    "    return u"
   ],
   "outputs": [],
   "execution_count": 28
  },
  {
   "cell_type": "code",
   "metadata": {
    "ExecuteTime": {
     "end_time": "2024-06-05T13:34:09.316419Z",
     "start_time": "2024-06-05T13:34:09.116116Z"
    }
   },
   "source": [
    "level = 3\n",
    "xvec = []\n",
    "for i in range(1, 2**level):\n",
    "    xvec.append(i * 2**(-level))\n",
    "\n",
    "uvec = list(map(lambda t: f.subs(x,t), xvec))\n",
    "\n",
    "print(\"x =\",fixfloat(xvec))\n",
    "print(\"u =\",fixfloat(uvec))\n",
    "\n",
    "vvec = hierarchize1d(uvec, level)\n",
    "print(\"v =\",fixfloat(vvec))\n",
    "\n",
    "plt.scatter(xvec, vvec)\n",
    "\n",
    "u_compare = dehierarchize1d(vvec,level)\n",
    "print(\"u_check =\",fixfloat(u_compare))\n"
   ],
   "outputs": [
    {
     "name": "stdout",
     "output_type": "stream",
     "text": [
      "x = ['0.1250', '0.2500', '0.3750', '0.5000', '0.6250', '0.7500', '0.8750']\n",
      "u = ['0.4375', '0.7500', '0.9375', '1.0000', '0.9375', '0.7500', '0.4375']\n",
      "v = ['0.0625', '0.2500', '0.0625', '1.0000', '0.0625', '0.2500', '0.0625']\n",
      "u_check = ['0.4375', '0.7500', '0.9375', '1.0000', '0.9375', '0.7500', '0.4375']\n"
     ]
    },
    {
     "data": {
      "text/plain": [
       "<Figure size 640x480 with 1 Axes>"
      ],
      "image/png": "[encoded data removed]"
     },
     "metadata": {},
     "output_type": "display_data"
    }
   ],
   "execution_count": 29
  },
  {
   "cell_type": "code",
   "metadata": {},
   "source": [],
   "outputs": [],
   "execution_count": null
  }
 ],
 "metadata": {
  "kernelspec": {
   "display_name": "Python 3",
   "language": "python",
   "name": "python3"
  },
  "language_info": {
   "codemirror_mode": {
    "name": "ipython",
    "version": 3
   },
   "file_extension": ".py",
   "mimetype": "text/x-python",
   "name": "python",
   "nbconvert_exporter": "python",
   "pygments_lexer": "ipython3",
   "version": "3.7.6"
  }
 },
 "nbformat": 4,
 "nbformat_minor": 1
}
