{
 "cells": [
  {
   "cell_type": "markdown",
   "id": "4a3e3e01-7976-4b4b-a4d6-7549a46862dd",
   "metadata": {},
   "source": [
    "## Exercise 2: Simple JPEG Encoder"
   ]
  },
  {
   "cell_type": "markdown",
   "id": "4239c658-94e2-4afc-94bf-7c1bf3cd1a4f",
   "metadata": {},
   "source": [
    "The Discrete Cosine Transform is the key to JPEG compression. Blocks of $8 \\times 8$ pixels are transformed to the frequency domain to be in a format which is more suited for compression. The code template provides you with the pixel values of a given $8 \\times 8$ block.\n",
    "\n",
    "<b>a)</b> In a greyscale image, the pixel values are usually encoded with 8 bit with values in $[0, 255]$. The DCT, however, works on $[-128, 127]$. Write a function that normalises the pixel values.\n",
    "\n",
    "<b>b)</b> The DCT transforms an $8 \\times 8$ block from the spatial domain to the frequency domain. Use\n",
    "\n",
    "$$\\begin{equation}F_{uv} = \\frac{1}{\\sqrt{2N}} c_u c_v \\sum_{x=0}^{N-1} \\sum_{y=0}^{N-1} f_{xy} \\cos \\left(\\frac{(2x+1)u\\pi}{2N}\\right) \\cos \\left(\\frac{(2y+1)v\\pi}{2N}\\right)\n",
    "\\end{equation}$$\n",
    "\n",
    "where \n",
    "\n",
    "$$\\begin{equation}\n",
    "c_{u;v} = \\begin{cases} \\frac{1}{\\sqrt{2}} & u;v = 0 \\\\ 1 & \\text{otherwise.}\\end{cases}\n",
    "\\end{equation}$$\n",
    "What is the complexity of your DCT routine? What is the meaning of $F_{00}$? \n",
    "\n",
    "<b>c)</b> The coefficients $F_{uv}$ are divided by quantisation values $Q_{uv}$ and rounded to the nearest integer. Quantisation is a lossy process; high quantisation coefficients result in a high compression factor, though at the expense of image quality. Implement the quantisation step. A common choice for the quantisation matrix is given in the code template. As mentioned in the lecture, a full JPEG encoder would now apply further compression techniques.  \n",
    "\n",
    "<b>d)</b> Derive the IDCT and write a decoder for our simple JPEG block encoder. Compare the original image with the subsequently encoded and then decoded image.\n"
   ]
  },
  {
   "cell_type": "code",
   "id": "838be34f-a2af-4725-9bc4-220c6d3fece2",
   "metadata": {
    "ExecuteTime": {
     "end_time": "2024-05-29T12:34:36.229316Z",
     "start_time": "2024-05-29T12:34:35.307984Z"
    }
   },
   "source": [
    "import numpy as np\n",
    "from matplotlib import pyplot as plt\n",
    "\n",
    "# quantisation matrix\n",
    "qtable = np.matrix( [[ 16,  11,  10,  16,  24,  40,  51,  61],\n",
    "                     [ 12,  12,  14,  19,  26,  58,  60,  55],\n",
    "                     [ 14,  13,  16,  24,  40,  57,  69,  56],\n",
    "                     [ 14,  17,  22,  29,  51,  87,  80,  62],\n",
    "                     [ 18,  22,  37,  56,  68, 109, 103,  77],\n",
    "                     [ 24,  35,  55,  64,  81, 104, 113,  92],\n",
    "                     [ 49,  64,  78,  87, 103, 121, 120, 101],\n",
    "                     [ 72,  92,  95,  98, 112, 100, 103,  99]])\n",
    "\n",
    "# original 8x8 block\n",
    "image = np.matrix([[37, 41, 53, 68,  89, 79, 54, 68],\n",
    "                 [  36, 28, 38, 65, 100, 94, 62, 65],\n",
    "                 [  46, 36, 46, 66,  84, 76, 59, 78],\n",
    "                 [  84, 67, 73, 84,  86, 73, 64, 87],\n",
    "                 [  77, 86,116,113,  77, 57, 79, 129],\n",
    "                 [  73, 62, 76, 74,  58, 70,109, 155],\n",
    "                 [  82, 54, 55, 57,  63,105,154, 189],\n",
    "                 [ 121, 73, 65, 86, 126,181,203, 200]], dtype=int)\n",
    "\n",
    "\n",
    "plt.imshow(image, cmap='gray', interpolation='nearest', vmin=0, vmax=255)\n",
    "plt.show()\n"
   ],
   "outputs": [
    {
     "data": {
      "text/plain": [
       "<Figure size 640x480 with 1 Axes>"
      ],
      "image/png": "[encoded data removed]"
     },
     "metadata": {},
     "output_type": "display_data"
    }
   ],
   "execution_count": 1
  },
  {
   "cell_type": "code",
   "id": "09fa8dc5-7227-49f9-90e3-076310a2da7a",
   "metadata": {
    "ExecuteTime": {
     "end_time": "2024-05-29T12:34:36.238802Z",
     "start_time": "2024-05-29T12:34:36.229316Z"
    }
   },
   "source": [
    "def normalize(image):\n",
    "    return image - 128*np.ones_like(image, dtype=np.uint8)\n",
    "\n",
    "image = normalize(image)\n",
    "image\n"
   ],
   "outputs": [
    {
     "data": {
      "text/plain": [
       "matrix([[ -91,  -87,  -75,  -60,  -39,  -49,  -74,  -60],\n",
       "        [ -92, -100,  -90,  -63,  -28,  -34,  -66,  -63],\n",
       "        [ -82,  -92,  -82,  -62,  -44,  -52,  -69,  -50],\n",
       "        [ -44,  -61,  -55,  -44,  -42,  -55,  -64,  -41],\n",
       "        [ -51,  -42,  -12,  -15,  -51,  -71,  -49,    1],\n",
       "        [ -55,  -66,  -52,  -54,  -70,  -58,  -19,   27],\n",
       "        [ -46,  -74,  -73,  -71,  -65,  -23,   26,   61],\n",
       "        [  -7,  -55,  -63,  -42,   -2,   53,   75,   72]])"
      ]
     },
     "execution_count": 2,
     "metadata": {},
     "output_type": "execute_result"
    }
   ],
   "execution_count": 2
  },
  {
   "metadata": {
    "ExecuteTime": {
     "end_time": "2024-05-29T12:34:36.256938Z",
     "start_time": "2024-05-29T12:34:36.238802Z"
    }
   },
   "cell_type": "code",
   "source": [
    "cosines = np.zeros((8,8))\n",
    "coeffs = np.ones((8,8))\n",
    "\n",
    "def dct(block):\n",
    "    \n",
    "    dct_block = np.zeros_like(block)\n",
    "    \n",
    "    for u in range(8):\n",
    "        for v in range(8):\n",
    "            block_sum = 0\n",
    "            for x in range(8):\n",
    "                for y in range(8):\n",
    "                    pixel = block[x, y]\n",
    "                    block_sum = block_sum + pixel*cosines[x, u]*cosines[y, v]\n",
    "            dct_block[u, v] = int(0.25*coeffs[u, v]*block_sum)\n",
    "    \n",
    "    return dct_block\n",
    "            \n",
    "for x in range(0,8):\n",
    "    for y in range(0,8):\n",
    "        cosines[x,y] = np.cos((2.*x+1)*y*np.pi/16)\n",
    "        \n",
    "vec = np.array([1/np.sqrt(2), 1, 1, 1, 1, 1, 1, 1])\n",
    "coeffs = np.outer(vec, vec)\n",
    "\n",
    "image = dct(image)\n",
    "image"
   ],
   "id": "89497e80cc84e313",
   "outputs": [
    {
     "data": {
      "text/plain": [
       "matrix([[-360, -144,   35,   -5,   41,    0,   19,    0],\n",
       "        [-160,   80, -110,   13,    8,  -28,    0,    0],\n",
       "        [  36,  -84,   11,   63,  -14,    0,    0,    0],\n",
       "        [ -30,   24,    9,  -59,    0,    0,    0,    0],\n",
       "        [  60,   30,  -15,    0,    0,    0,    0,    0],\n",
       "        [ -32,    0,   23,    0,    0,    0,    0,    0],\n",
       "        [   0,    0,    0,    0,    0,    0,    0,    0],\n",
       "        [   0,    0,    0,  -24,    0,    0,    0,    0]])"
      ]
     },
     "execution_count": 3,
     "metadata": {},
     "output_type": "execute_result"
    }
   ],
   "execution_count": 3
  },
  {
   "metadata": {
    "ExecuteTime": {
     "end_time": "2024-05-29T12:35:49.331685Z",
     "start_time": "2024-05-29T12:35:49.319889Z"
    }
   },
   "cell_type": "code",
   "source": [
    "def quantize(block):\n",
    "    return np.round(block/qtable, 0)\n",
    "\n",
    "image = quantize(image)\n",
    "image"
   ],
   "id": "123236343d9a95ea",
   "outputs": [
    {
     "data": {
      "text/plain": [
       "matrix([[-22., -13.,   4.,  -0.,   2.,   0.,   0.,   0.],\n",
       "        [-13.,   7.,  -8.,   1.,   0.,  -0.,   0.,   0.],\n",
       "        [  3.,  -6.,   1.,   3.,  -0.,   0.,   0.,   0.],\n",
       "        [ -2.,   1.,   0.,  -2.,   0.,   0.,   0.,   0.],\n",
       "        [  3.,   1.,  -0.,   0.,   0.,   0.,   0.,   0.],\n",
       "        [ -1.,   0.,   0.,   0.,   0.,   0.,   0.,   0.],\n",
       "        [  0.,   0.,   0.,   0.,   0.,   0.,   0.,   0.],\n",
       "        [  0.,   0.,   0.,  -0.,   0.,   0.,   0.,   0.]])"
      ]
     },
     "execution_count": 4,
     "metadata": {},
     "output_type": "execute_result"
    }
   ],
   "execution_count": 4
  },
  {
   "metadata": {
    "ExecuteTime": {
     "end_time": "2024-05-29T12:37:15.997316Z",
     "start_time": "2024-05-29T12:37:15.983546Z"
    }
   },
   "cell_type": "code",
   "source": [
    "def dequantize(block):\n",
    "    return np.multiply(block, qtable)\n",
    "\n",
    "image = dequantize(image)\n",
    "image"
   ],
   "id": "7b2cace96e844ff3",
   "outputs": [
    {
     "data": {
      "text/plain": [
       "matrix([[-352., -143.,   40.,   -0.,   48.,    0.,    0.,    0.],\n",
       "        [-156.,   84., -112.,   19.,    0.,   -0.,    0.,    0.],\n",
       "        [  42.,  -78.,   16.,   72.,   -0.,    0.,    0.,    0.],\n",
       "        [ -28.,   17.,    0.,  -58.,    0.,    0.,    0.,    0.],\n",
       "        [  54.,   22.,   -0.,    0.,    0.,    0.,    0.,    0.],\n",
       "        [ -24.,    0.,    0.,    0.,    0.,    0.,    0.,    0.],\n",
       "        [   0.,    0.,    0.,    0.,    0.,    0.,    0.,    0.],\n",
       "        [   0.,    0.,    0.,   -0.,    0.,    0.,    0.,    0.]])"
      ]
     },
     "execution_count": 5,
     "metadata": {},
     "output_type": "execute_result"
    }
   ],
   "execution_count": 5
  },
  {
   "metadata": {
    "ExecuteTime": {
     "end_time": "2024-05-29T12:42:09.390673Z",
     "start_time": "2024-05-29T12:42:09.368195Z"
    }
   },
   "cell_type": "code",
   "source": [
    "def idct(block):\n",
    "    \n",
    "    image = np.zeros((8,8), dtype=np.uint8)\n",
    "    \n",
    "    for x in range(8):\n",
    "        for y in range (8):\n",
    "            blockSum = 0\n",
    "            for u in range(8):\n",
    "                for v in range(8):\n",
    "                    blockSum = blockSum + coeffs[u,v] * block[u,v] * cosines[x,u] * cosines[y,v]\n",
    "            \n",
    "            image[x,y] = int(0.25 * blockSum)\n",
    "            \n",
    "    return image\n",
    "\n",
    "image = idct(image)\n",
    "image\n"
   ],
   "id": "a8720561ac6466b9",
   "outputs": [
    {
     "data": {
      "text/plain": [
       "array([[-80., -90., -81., -50., -34., -45., -61., -66.],\n",
       "       [-81., -96., -90., -57., -34., -41., -58., -65.],\n",
       "       [-73., -88., -84., -57., -41., -49., -60., -62.],\n",
       "       [-54., -56., -48., -38., -46., -62., -57., -38.],\n",
       "       [-50., -39., -25., -26., -53., -69., -41.,   2.],\n",
       "       [-65., -59., -49., -48., -63., -63., -20.,  31.],\n",
       "       [-46., -68., -78., -64., -43., -18.,  20.,  57.],\n",
       "       [  2., -45., -76., -51.,   0.,  41.,  69.,  86.]])"
      ]
     },
     "execution_count": 7,
     "metadata": {},
     "output_type": "execute_result"
    }
   ],
   "execution_count": 7
  },
  {
   "metadata": {
    "ExecuteTime": {
     "end_time": "2024-05-29T12:43:08.769131Z",
     "start_time": "2024-05-29T12:43:08.755807Z"
    }
   },
   "cell_type": "code",
   "source": [
    "def denormalize(block):\n",
    "    return block + np.ones_like(block)*128\n",
    "\n",
    "image = denormalize(image)\n",
    "image"
   ],
   "id": "d3657bb01ae1931a",
   "outputs": [
    {
     "data": {
      "text/plain": [
       "array([[ 48.,  38.,  47.,  78.,  94.,  83.,  67.,  62.],\n",
       "       [ 47.,  32.,  38.,  71.,  94.,  87.,  70.,  63.],\n",
       "       [ 55.,  40.,  44.,  71.,  87.,  79.,  68.,  66.],\n",
       "       [ 74.,  72.,  80.,  90.,  82.,  66.,  71.,  90.],\n",
       "       [ 78.,  89., 103., 102.,  75.,  59.,  87., 130.],\n",
       "       [ 63.,  69.,  79.,  80.,  65.,  65., 108., 159.],\n",
       "       [ 82.,  60.,  50.,  64.,  85., 110., 148., 185.],\n",
       "       [130.,  83.,  52.,  77., 128., 169., 197., 214.]])"
      ]
     },
     "execution_count": 8,
     "metadata": {},
     "output_type": "execute_result"
    }
   ],
   "execution_count": 8
  },
  {
   "metadata": {
    "ExecuteTime": {
     "end_time": "2024-05-29T12:43:22.909962Z",
     "start_time": "2024-05-29T12:43:22.771909Z"
    }
   },
   "cell_type": "code",
   "source": [
    "plt.imshow(image, cmap='gray', interpolation='nearest', vmin=0, vmax=255)\n",
    "plt.show()"
   ],
   "id": "397211f24997d5cc",
   "outputs": [
    {
     "data": {
      "text/plain": [
       "<Figure size 640x480 with 1 Axes>"
      ],
      "image/png": "[encoded data removed]"
     },
     "metadata": {},
     "output_type": "display_data"
    }
   ],
   "execution_count": 9
  },
  {
   "metadata": {},
   "cell_type": "code",
   "outputs": [],
   "execution_count": null,
   "source": "",
   "id": "749a8f3123354ee6"
  }
 ],
 "metadata": {
  "kernelspec": {
   "display_name": "Python 3 (ipykernel)",
   "language": "python",
   "name": "python3"
  },
  "language_info": {
   "codemirror_mode": {
    "name": "ipython",
    "version": 3
   },
   "file_extension": ".py",
   "mimetype": "text/x-python",
   "name": "python",
   "nbconvert_exporter": "python",
   "pygments_lexer": "ipython3",
   "version": "3.11.6"
  }
 },
 "nbformat": 4,
 "nbformat_minor": 5
}
